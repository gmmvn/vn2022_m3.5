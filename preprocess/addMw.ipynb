{
 "cells": [
  {
   "cell_type": "code",
   "execution_count": 1,
   "metadata": {},
   "outputs": [],
   "source": [
    "#%%\n",
    "from glob import glob\n",
    "import pandas as pd\n",
    "import numpy as np\n",
    "from obspy import read_events\n",
    "\n",
    "\n",
    "import obspy\n",
    "from obspy import Catalog, UTCDateTime\n",
    "\n",
    "import numpy as np\n",
    "import pandas as pd\n",
    "import warnings\n",
    "\n",
    "import matplotlib.pyplot as plt\n",
    "from matplotlib import cm\n"
   ]
  },
  {
   "cell_type": "code",
   "execution_count": 53,
   "metadata": {},
   "outputs": [],
   "source": [
    "def convert_utc(yy,mm,dd,hh,mi,s):\n",
    "    return UTCDateTime(int(yy), int(mm), int(dd), int(hh), int(mi), int(s))\n",
    "    \n",
    "eqcat = pd.read_csv(\"vn_cat.csv\",index_col=0)\n",
    "eqcat['utctime'] = eqcat.apply(lambda x: convert_utc(x.year, x.month, x.day, x.hour, x.minute, x.second),axis=1)\n",
    "eqcat['eqid'] = eqcat.utctime.apply(lambda x: x.strftime(\"%Y%m%d%H%M%S\"))"
   ]
  },
  {
   "cell_type": "code",
   "execution_count": 3,
   "metadata": {},
   "outputs": [],
   "source": [
    "mlre = glob(\"MW_code/res/20*/*.out\")\n",
    "sdf = []\n",
    "for i in range(0,len(mlre)):\n",
    "    fml = mlre[i]\n",
    "    eqid = fml.split(\"/\")[-2]\n",
    "    fmldata = open(fml,\"r\").readlines()\n",
    "    mw = np.NaN\n",
    "    try:\n",
    "        mwinfo =  [a  for a in fmldata if \"Mw (weighted):\" in a][0]\n",
    "        mw = round(float(mwinfo.split()[2]),1)\n",
    "    except:\n",
    "        pass\n",
    "    \n",
    "    sdict = {\"eqid\":eqid,\"mw\":mw}\n",
    "    sdf.append(sdict)\n",
    "#%%\n",
    "\n",
    "sdf = pd.DataFrame(sdf)"
   ]
  },
  {
   "cell_type": "code",
   "execution_count": 54,
   "metadata": {},
   "outputs": [],
   "source": [
    "eqcat = eqcat.merge(sdf,left_on=\"eqid\",right_on=\"eqid\",how = \"outer\")\n",
    "eqcat.mw = eqcat.mw.fillna(eqcat.Ml)"
   ]
  },
  {
   "cell_type": "code",
   "execution_count": 57,
   "metadata": {},
   "outputs": [],
   "source": [
    "cwbl = glob(\"ascii/*\")\n"
   ]
  },
  {
   "cell_type": "code",
   "execution_count": 58,
   "metadata": {},
   "outputs": [],
   "source": [
    "for fn in cwbl:\n",
    "#     fn = cwbl[0]\n",
    "    ev = fn.split(\"_\")[-2]\n",
    "    mw = round(float(eqcat.query(\"eqid == '{}'\".format(ev)).reset_index(drop=True).mw[0]),1)\n",
    "    with open(fn, \"r\") as f:\n",
    "        contents = f.readlines()\n",
    "\n",
    "    contents.insert(6, \"%EventMw: {}\\n\".format(mw))\n",
    "    nfn = \"ascii_mw/\" + fn.split(\"/\")[-1]\n",
    "    with open(nfn, \"w\") as f:\n",
    "        contents = \"\".join(contents)\n",
    "        f.write(contents)"
   ]
  },
  {
   "cell_type": "code",
   "execution_count": null,
   "metadata": {},
   "outputs": [],
   "source": []
  }
 ],
 "metadata": {
  "kernelspec": {
   "display_name": "Python 3",
   "language": "python",
   "name": "python3"
  },
  "language_info": {
   "codemirror_mode": {
    "name": "ipython",
    "version": 3
   },
   "file_extension": ".py",
   "mimetype": "text/x-python",
   "name": "python",
   "nbconvert_exporter": "python",
   "pygments_lexer": "ipython3",
   "version": "3.7.6"
  }
 },
 "nbformat": 4,
 "nbformat_minor": 4
}
